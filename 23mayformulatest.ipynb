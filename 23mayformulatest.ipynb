{
 "cells": [
  {
   "cell_type": "markdown",
   "id": "5bc1dcbf",
   "metadata": {},
   "source": [
    "***GENERATED CODE FOR 23mayformulatest PIPELINE.***"
   ]
  },
  {
   "cell_type": "markdown",
   "id": "99db4297",
   "metadata": {},
   "source": [
    "***DON'T EDIT THIS CODE.***"
   ]
  },
  {
   "cell_type": "markdown",
   "id": "9a55248c",
   "metadata": {},
   "source": [
    "***CONNECTOR FUNCTIONS TO READ DATA.***"
   ]
  },
  {
   "cell_type": "code",
   "execution_count": null,
   "id": "9a08f6bb",
   "metadata": {},
   "outputs": [],
   "source": [
    "import os\n",
    "import datetime\n",
    "import logging\n",
    "import warnings\n",
    "warnings.filterwarnings('ignore')\n",
    "logging.basicConfig(format='%(levelname)s:%(message)s', level=logging.INFO)\n",
    "\n",
    "\n",
    "class HDFSConnector:\n",
    "\n",
    "    def fetch(spark, config):\n",
    "        ################### INPUT HADOOP HOST PORT TO CONNECT WITH ###############################\n",
    "        hdfs_server = str(os.environ['HDFS_SERVER'])\n",
    "        hdfs_port = int(os.environ['HDFS_PORT'])\n",
    "        df = spark.read.options(header='true', inferschema='true').csv(\n",
    "            f\"hdfs://{hdfs_server}:{hdfs_port}{eval(config)['url']}\", header='true')\n",
    "        display(df.limit(2).toPandas())\n",
    "        return df\n",
    "\n",
    "    def put(df, spark, config):\n",
    "        return df.write.format('csv').options(header='true' if eval(config)[\"is_header\"] == \"Use Header Line\" else 'false',\n",
    "                                              delimiter=eval(config)[\"delimiter\"]).save((\"%s %s\") % (datetime.datetime.now().strftime(\"%Y-%m-%d %H.%M.%S\")+\"_\", eval(config)['url']))\n"
   ]
  },
  {
   "cell_type": "markdown",
   "id": "19dc663e",
   "metadata": {},
   "source": [
    "***OPERATION FUNCTIONS***"
   ]
  },
  {
   "cell_type": "code",
   "execution_count": null,
   "id": "59d1209e",
   "metadata": {},
   "outputs": [],
   "source": [
    "class FormulaOperation:\n",
    "\n",
    "    def run(inStages, inStagesData, stageId, sparkSession, stageAttribs):\n",
    "\n",
    "        formula = \"\"\n",
    "        if stageAttribs[\"use_expression\"]:\n",
    "            for expression in stageAttribs[\"expression\"]:\n",
    "                formula += \"%s %s %s %s\" % (expression[\"combinator\"],\n",
    "                                            expression[\"value1\"],\n",
    "                                            expression[\"operator\"],\n",
    "                                            expression[\"value2\"])\n",
    "        else:\n",
    "            formula = stageAttribs[\"formula\"]\n",
    "\n",
    "        output_field = stageAttribs[\"output_field\"]\n",
    "\n",
    "        if output_field[\"absolute\"]:\n",
    "            formula = \"ABS(%s) as %s\" % (formula, output_field[\"field\"])\n",
    "        else:\n",
    "            formula = \"(%s) as %s\" % (formula, output_field[\"field\"])\n",
    "\n",
    "        inStagesData[inStages[0]].createOrReplaceTempView(\"view%s\" % (stageId))\n",
    "        return sparkSession.sql(\"SELECT *, %s FROM view\" % (formula,\n",
    "                                                            \"view%s\" % (stageId)))\n"
   ]
  },
  {
   "cell_type": "markdown",
   "id": "59f7eace",
   "metadata": {},
   "source": [
    "***CONNECTOR FUNCTIONS TO WRITE DATA.***"
   ]
  },
  {
   "cell_type": "code",
   "execution_count": null,
   "id": "d4d20d64",
   "metadata": {},
   "outputs": [],
   "source": [
    "import datetime\n",
    "import requests\n",
    "import datetime\n",
    "import logging\n",
    "import warnings\n",
    "warnings.filterwarnings('ignore')\n",
    "logging.basicConfig(format='%(levelname)s:%(message)s', level=logging.INFO)\n",
    "\n",
    "\n",
    "class NumtraConnector:\n",
    "\n",
    "    def put(inStages, inStagesData, stageId, spark, config):\n",
    "        path = eval(config)['server_url']\n",
    "        baseType = eval(config)['baseType']\n",
    "        results_url = eval(config)['results_url']\n",
    "        server = eval(config)['server']\n",
    "        originalfile = eval(config)['orignalKey']\n",
    "        eval(config)['pathOnly']\n",
    "        filename = eval(config)['filename']\n",
    "        eval(config)['ser']\n",
    "        eval(config)['user']\n",
    "        eval(config)['password']\n",
    "        eval(config)['authSource']\n",
    "        eval(config)['user_id']\n",
    "        eval(config)['parent_id']\n",
    "        eval(config)['project_id']\n",
    "        time = str(int(datetime.datetime.now().timestamp()))\n",
    "\n",
    "        inStagesData[inStages[0]]\n",
    "\n",
    "        print(path)\n",
    "        print(baseType)\n",
    "        print(results_url)\n",
    "        print(server)\n",
    "        print(originalfile)\n",
    "        print(filename)\n",
    "\n",
    "        args = {\n",
    "            'url': path,\n",
    "            'baseType': baseType,\n",
    "            'originalfile': originalfile,\n",
    "            'filename': time + filename\n",
    "        }\n",
    "\n",
    "        response = requests.post(results_url, args)\n",
    "        return response\n"
   ]
  },
  {
   "cell_type": "markdown",
   "id": "5a280668",
   "metadata": {},
   "source": [
    "***READING DATAFRAME***"
   ]
  },
  {
   "cell_type": "code",
   "execution_count": null,
   "id": "02fbfefb",
   "metadata": {},
   "outputs": [],
   "source": [
    "############## CREATE SPARK SESSION ############################ ENTER YOUR SPARK MASTER IP AND PORT TO CONNECT TO SERVER ################\n",
    "from pyspark.sql import SparkSession\n",
    "spark = SparkSession.builder.master('local[1]').getOrCreate()\n",
    "#%run 23mayformulatestHooks.ipynb\n",
    "try:\n",
    "\t#sourcePreExecutionHook()\n",
    "\n",
    "\tbankdepoithitorypttr = HDFSConnector.fetch(spark, \"{'url': '/FileStore/platform/testdata/1708597783331_BankDepositHistory.csv', 'filename': 'BankDepositHistory.csv', 'delimiter': ',', 'file_type': 'Delimeted', 'dbfs_token': '', 'dbfs_domain': '', 'FilePath': '/DtaleTest/BankDepositHistory.csv', 'viewFileName': 'BankDepositHistory.csv', 'is_header': 'Use Header Line', 'baseType': 'hdfs', 'server_url': '/nexusMax/NexusMaxPlatform/uploads/platform/', 'results_url': 'http://dnm.bfirst.ai:44040/api/read/hdfs'}\")\n",
    "\n",
    "except Exception as ex: \n",
    "\tlogging.error(ex)\n",
    "#spark.stop()\n"
   ]
  },
  {
   "cell_type": "markdown",
   "id": "2ad22ea0",
   "metadata": {},
   "source": [
    "***PERFORMING OPERATIONS***"
   ]
  },
  {
   "cell_type": "code",
   "execution_count": null,
   "id": "40428d39",
   "metadata": {},
   "outputs": [],
   "source": [
    "#%run 23mayformulatestHooks.ipynb\n",
    "try:\n",
    "\tformula = FormulaOperation.run([\"664f121119a8a8bfbe726bd5\"],{\"664f121119a8a8bfbe726bd5\": bankdepoithitorypttr}, \"664f121c19a8a8bfbe726bd9\", spark, \"{'dataType': 'numeric', 'dataTypes': ['numeric', 'String'], 'SelectedColumns': ['age', 'pdays'], 'functionData': {'functionName': 'formula', 'applyOn': [{'columnName': 'age', 'type': 'numeric', 'disable': False}, {'columnName': 'pdays', 'type': 'numeric', 'disable': False}], 'functionsData': [{'operand1': 'age', 'operator': 'add', 'operand2': 'pdays', 'outputColumn': 'newColumn', 'useNext': 0, 'column': [{'Columndata': {'columnName': 'age', 'type': 'numeric', 'disable': False}}, {'Columndata': {'columnName': 'pdays', 'type': 'numeric', 'disable': False}}, {'Columndata': ''}]}]}, 'allColumns': [{'columnName': 'age', 'type': 'numeric', 'disable': False}, {'columnName': 'job', 'type': 'String', 'disable': True}, {'columnName': 'marital', 'type': 'String', 'disable': True}, {'columnName': 'education', 'type': 'String', 'disable': True}, {'columnName': 'default', 'type': 'String', 'disable': True}, {'columnName': 'balance', 'type': 'numeric', 'disable': False}, {'columnName': 'housing', 'type': 'String', 'disable': True}, {'columnName': 'loan', 'type': 'String', 'disable': True}, {'columnName': 'contact', 'type': 'String', 'disable': True}, {'columnName': 'day', 'type': 'numeric', 'disable': False}, {'columnName': 'month', 'type': 'String', 'disable': True}, {'columnName': 'duration', 'type': 'numeric', 'disable': False}, {'columnName': 'campaign', 'type': 'numeric', 'disable': False}, {'columnName': 'pdays', 'type': 'numeric', 'disable': False}, {'columnName': 'previous', 'type': 'numeric', 'disable': False}, {'columnName': 'poutcome', 'type': 'String', 'disable': True}, {'columnName': 'deposit', 'type': 'String', 'disable': True}], 'url': '/FileStore/platform/testdata/1708597783331_BankDepositHistory.csv', 'SelectedColumnsData': [{'columnName': 'age', 'type': 'numeric', 'disable': False}, {'columnName': 'pdays', 'type': 'numeric', 'disable': False}], 'server_url': '/nexusMax/NexusMaxPlatform/uploads/platform/'}\")\n",
    "\n",
    "except Exception as ex: \n",
    "\tlogging.error(ex)\n"
   ]
  },
  {
   "cell_type": "markdown",
   "id": "876e6c1e",
   "metadata": {},
   "source": [
    "***WRITING DATAFRAME***"
   ]
  },
  {
   "cell_type": "code",
   "execution_count": null,
   "id": "1d6b6fc7",
   "metadata": {},
   "outputs": [],
   "source": [
    "#%run 23mayformulatestHooks.ipynb\n",
    "try:\n",
    "\t#sinkPreExecutionHook()\n",
    "\n",
    "\tdatapipelinetestoutput = NumtraConnector.fetch(spark, \"{'samplefile': '/FileStore/platform/sampleData/664f121119a8a8bfbe726bd5/part-00000-a330789a-e237-4d79-83c3-e5a892534d3f-c000.csv', 'samplecount': 1147, 'originalcount': 11138, 'orignalKey': '/FileStore/platform/testdata/1708597783331_BankDepositHistory.csv', 'pathOnly': '/DataPipelineTest', 'project_id': '65d6eaa27ff4e119ca47d614', 'parent_id': '65d6eaa27ff4e119ca47d614', 'original_schema': [{'checked': True, 'inherited': True, 'is_categorical': False, 'bad_values': '', 'nullable': 'true', '_id': '664f126619a8a8bfbe726c1c', 'field': 'age', 'alias': 'age', 'type': 'numeric', 'position': '0'}, {'checked': True, 'inherited': True, 'is_categorical': False, 'bad_values': '', 'nullable': 'true', '_id': '664f126619a8a8bfbe726c1d', 'field': 'job', 'alias': 'job', 'type': 'String', 'position': '1'}, {'checked': True, 'inherited': True, 'is_categorical': False, 'bad_values': '', 'nullable': 'true', '_id': '664f126619a8a8bfbe726c1e', 'field': 'marital', 'alias': 'marital', 'type': 'String', 'position': '2'}, {'checked': True, 'inherited': True, 'is_categorical': False, 'bad_values': '', 'nullable': 'true', '_id': '664f126619a8a8bfbe726c1f', 'field': 'education', 'alias': 'education', 'type': 'String', 'position': '3'}, {'checked': True, 'inherited': True, 'is_categorical': False, 'bad_values': '', 'nullable': 'true', '_id': '664f126619a8a8bfbe726c20', 'field': 'default', 'alias': 'default', 'type': 'String', 'position': '4'}, {'checked': True, 'inherited': True, 'is_categorical': False, 'bad_values': '', 'nullable': 'true', '_id': '664f126619a8a8bfbe726c21', 'field': 'balance', 'alias': 'balance', 'type': 'numeric', 'position': '5'}, {'checked': True, 'inherited': True, 'is_categorical': False, 'bad_values': '', 'nullable': 'true', '_id': '664f126619a8a8bfbe726c22', 'field': 'housing', 'alias': 'housing', 'type': 'String', 'position': '6'}, {'checked': True, 'inherited': True, 'is_categorical': False, 'bad_values': '', 'nullable': 'true', '_id': '664f126619a8a8bfbe726c23', 'field': 'loan', 'alias': 'loan', 'type': 'String', 'position': '7'}, {'checked': True, 'inherited': True, 'is_categorical': False, 'bad_values': '', 'nullable': 'true', '_id': '664f126619a8a8bfbe726c24', 'field': 'contact', 'alias': 'contact', 'type': 'String', 'position': '8'}, {'checked': True, 'inherited': True, 'is_categorical': False, 'bad_values': '', 'nullable': 'true', '_id': '664f126619a8a8bfbe726c25', 'field': 'day', 'alias': 'day', 'type': 'numeric', 'position': '9'}, {'checked': True, 'inherited': True, 'is_categorical': False, 'bad_values': '', 'nullable': 'true', '_id': '664f126619a8a8bfbe726c26', 'field': 'month', 'alias': 'month', 'type': 'String', 'position': '10'}, {'checked': True, 'inherited': True, 'is_categorical': False, 'bad_values': '', 'nullable': 'true', '_id': '664f126619a8a8bfbe726c27', 'field': 'duration', 'alias': 'duration', 'type': 'numeric', 'position': '11'}, {'checked': True, 'inherited': True, 'is_categorical': False, 'bad_values': '', 'nullable': 'true', '_id': '664f126619a8a8bfbe726c28', 'field': 'campaign', 'alias': 'campaign', 'type': 'numeric', 'position': '12'}, {'checked': True, 'inherited': True, 'is_categorical': False, 'bad_values': '', 'nullable': 'true', '_id': '664f126619a8a8bfbe726c29', 'field': 'pdays', 'alias': 'pdays', 'type': 'numeric', 'position': '13'}, {'checked': True, 'inherited': True, 'is_categorical': False, 'bad_values': '', 'nullable': 'true', '_id': '664f126619a8a8bfbe726c2a', 'field': 'previous', 'alias': 'previous', 'type': 'numeric', 'position': '14'}, {'checked': True, 'inherited': True, 'is_categorical': False, 'bad_values': '', 'nullable': 'true', '_id': '664f126619a8a8bfbe726c2b', 'field': 'poutcome', 'alias': 'poutcome', 'type': 'String', 'position': '15'}, {'checked': True, 'inherited': True, 'is_categorical': False, 'bad_values': '', 'nullable': 'true', '_id': '664f126619a8a8bfbe726c2c', 'field': 'deposit', 'alias': 'deposit', 'type': 'String', 'position': '16'}], 'actual_schema': [{'checked': True, 'inherited': True, 'is_categorical': False, 'bad_values': '', 'nullable': 'true', '_id': '664f126619a8a8bfbe726c0b', 'field': 'age', 'alias': 'age', 'type': 'numeric', 'position': '0'}, {'checked': True, 'inherited': True, 'is_categorical': False, 'bad_values': '', 'nullable': 'true', '_id': '664f126619a8a8bfbe726c0c', 'field': 'job', 'alias': 'job', 'type': 'String', 'position': '1'}, {'checked': True, 'inherited': True, 'is_categorical': False, 'bad_values': '', 'nullable': 'true', '_id': '664f126619a8a8bfbe726c0d', 'field': 'marital', 'alias': 'marital', 'type': 'String', 'position': '2'}, {'checked': True, 'inherited': True, 'is_categorical': False, 'bad_values': '', 'nullable': 'true', '_id': '664f126619a8a8bfbe726c0e', 'field': 'education', 'alias': 'education', 'type': 'String', 'position': '3'}, {'checked': True, 'inherited': True, 'is_categorical': False, 'bad_values': '', 'nullable': 'true', '_id': '664f126619a8a8bfbe726c0f', 'field': 'default', 'alias': 'default', 'type': 'String', 'position': '4'}, {'checked': True, 'inherited': True, 'is_categorical': False, 'bad_values': '', 'nullable': 'true', '_id': '664f126619a8a8bfbe726c10', 'field': 'balance', 'alias': 'balance', 'type': 'numeric', 'position': '5'}, {'checked': True, 'inherited': True, 'is_categorical': False, 'bad_values': '', 'nullable': 'true', '_id': '664f126619a8a8bfbe726c11', 'field': 'housing', 'alias': 'housing', 'type': 'String', 'position': '6'}, {'checked': True, 'inherited': True, 'is_categorical': False, 'bad_values': '', 'nullable': 'true', '_id': '664f126619a8a8bfbe726c12', 'field': 'loan', 'alias': 'loan', 'type': 'String', 'position': '7'}, {'checked': True, 'inherited': True, 'is_categorical': False, 'bad_values': '', 'nullable': 'true', '_id': '664f126619a8a8bfbe726c13', 'field': 'contact', 'alias': 'contact', 'type': 'String', 'position': '8'}, {'checked': True, 'inherited': True, 'is_categorical': False, 'bad_values': '', 'nullable': 'true', '_id': '664f126619a8a8bfbe726c14', 'field': 'day', 'alias': 'day', 'type': 'numeric', 'position': '9'}, {'checked': True, 'inherited': True, 'is_categorical': False, 'bad_values': '', 'nullable': 'true', '_id': '664f126619a8a8bfbe726c15', 'field': 'month', 'alias': 'month', 'type': 'String', 'position': '10'}, {'checked': True, 'inherited': True, 'is_categorical': False, 'bad_values': '', 'nullable': 'true', '_id': '664f126619a8a8bfbe726c16', 'field': 'duration', 'alias': 'duration', 'type': 'numeric', 'position': '11'}, {'checked': True, 'inherited': True, 'is_categorical': False, 'bad_values': '', 'nullable': 'true', '_id': '664f126619a8a8bfbe726c17', 'field': 'campaign', 'alias': 'campaign', 'type': 'numeric', 'position': '12'}, {'checked': True, 'inherited': True, 'is_categorical': False, 'bad_values': '', 'nullable': 'true', '_id': '664f126619a8a8bfbe726c18', 'field': 'pdays', 'alias': 'pdays', 'type': 'numeric', 'position': '13'}, {'checked': True, 'inherited': True, 'is_categorical': False, 'bad_values': '', 'nullable': 'true', '_id': '664f126619a8a8bfbe726c19', 'field': 'previous', 'alias': 'previous', 'type': 'numeric', 'position': '14'}, {'checked': True, 'inherited': True, 'is_categorical': False, 'bad_values': '', 'nullable': 'true', '_id': '664f126619a8a8bfbe726c1a', 'field': 'poutcome', 'alias': 'poutcome', 'type': 'String', 'position': '15'}, {'checked': True, 'inherited': True, 'is_categorical': False, 'bad_values': '', 'nullable': 'true', '_id': '664f126619a8a8bfbe726c1b', 'field': 'deposit', 'alias': 'deposit', 'type': 'String', 'position': '16'}], 'server': 'https://dnm.bfirst.ai:443', 'server_url': '/nexusMax/NexusMaxPlatform/uploads/platform/', 'delimiter': ',', 'file_type': 'Delimeted', 'filename': 'FormulaNewcol.csv', 'token': '', 'domain': '', 'is_header': 'Use Header Line', 'url': '/FileStore/platform/uploadedSourceFiles/part-00000-ae5532cd-304c-43a2-a036-57f11ec65cf3-c000.csv', 'results_url': 'http://dnm.bfirst.ai:44040/api/read/hdfs'}\")\n",
    "\n",
    "except Exception as ex: \n",
    "\tlogging.error(ex)\n"
   ]
  }
 ],
 "metadata": {},
 "nbformat": 4,
 "nbformat_minor": 5
}
